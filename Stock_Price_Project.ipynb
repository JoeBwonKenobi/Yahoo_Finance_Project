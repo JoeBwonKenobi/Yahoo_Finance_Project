{
 "cells": [
  {
   "cell_type": "markdown",
   "id": "5313f4d4",
   "metadata": {},
   "source": [
    "# **Stock Project**"
   ]
  },
  {
   "cell_type": "markdown",
   "id": "8c9df0ea",
   "metadata": {},
   "source": [
    "# **Imports**"
   ]
  },
  {
   "cell_type": "code",
   "execution_count": 1,
   "id": "8ed8f274",
   "metadata": {
    "scrolled": true
   },
   "outputs": [],
   "source": [
    "import pandas as pd\n",
    "import numpy as np\n",
    "import matplotlib.pyplot as plt\n",
    "import seaborn as sns\n",
    "import plotly.express as px\n",
    "import requests\n",
    "import json\n",
    "import warnings\n",
    "warnings.filterwarnings(\"ignore\")\n",
    "import pickle\n",
    "import datetime as dt\n",
    "from sklearn.model_selection import train_test_split, RandomizedSearchCV\n",
    "from sklearn.ensemble import RandomForestRegressor, ExtraTreesRegressor\n",
    "from wordcloud import WordCloud, STOPWORDS, ImageColorGenerator\n",
    "from sklearn.model_selection import train_test_split\n",
    "from sklearn.linear_model import PassiveAggressiveRegressor\n",
    "from bs4 import BeautifulSoup"
   ]
  },
  {
   "cell_type": "markdown",
   "id": "3a93c157",
   "metadata": {},
   "source": [
    "# **Obtain Price Function**"
   ]
  },
  {
   "cell_type": "code",
   "execution_count": 2,
   "id": "83cc3b7c",
   "metadata": {},
   "outputs": [],
   "source": [
    "# Create Function\n",
    "def getData (symbol):\n",
    "    headers = {'User-Agent': 'Mozilla/5.0 (Windows NT 10.0; Win64; x64) AppleWebKit/537.36 (KHTML, like Gecko) Chrome/111.0.0.0 Safari/537.36'}\n",
    "    url = f'https://finance.yahoo.com/quote/{symbol}'\n",
    "    r = requests.get(url, headers=headers)\n",
    "    soup = BeautifulSoup(r.text, 'html.parser')\n",
    "    stock ={\n",
    "    'symbol': symbol,    \n",
    "    'price' : soup.find('div',{'class':'D(ib) Va(m) Maw(65%) Ov(h)'}).find_all('fin-streamer')[0].text,\n",
    "    'Pchange' : soup.find('div',{'class':'D(ib) Va(m) Maw(65%) Ov(h)'}).find_all('fin-streamer')[1].text,\n",
    "    'RMchange' : soup.find('div',{'class':'D(ib) Va(m) Maw(65%) Ov(h)'}).find_all('span')[1].text,\n",
    "    }\n",
    "    return stock"
   ]
  },
  {
   "cell_type": "code",
   "execution_count": 3,
   "id": "1a2eab80",
   "metadata": {},
   "outputs": [],
   "source": [
    "mystocks = ['JNJ?p=JNJ', 'AI?p=AI', 'GOLD?p=GOLD', 'SECO?p=SECO', 'CAT?p=CAT']"
   ]
  },
  {
   "cell_type": "code",
   "execution_count": 4,
   "id": "4d8b56c9",
   "metadata": {},
   "outputs": [],
   "source": [
    "stockdata = []"
   ]
  },
  {
   "cell_type": "code",
   "execution_count": 5,
   "id": "470cc7dc",
   "metadata": {},
   "outputs": [
    {
     "name": "stdout",
     "output_type": "stream",
     "text": [
      "Getting:  JNJ?p=JNJ\n",
      "Getting:  AI?p=AI\n",
      "Getting:  GOLD?p=GOLD\n",
      "Getting:  SECO?p=SECO\n",
      "Getting:  CAT?p=CAT\n",
      "[{'symbol': 'JNJ?p=JNJ', 'price': '165.15', 'Pchange': '-0.46', 'RMchange': '(-0.28%)'}, {'symbol': 'AI?p=AI', 'price': '22.84', 'Pchange': '+1.75', 'RMchange': '(+8.30%)'}, {'symbol': 'GOLD?p=GOLD', 'price': '19.73', 'Pchange': '+0.05', 'RMchange': '(+0.25%)'}, {'symbol': 'SECO?p=SECO', 'price': '1.2100', 'Pchange': '+0.3295', 'RMchange': '(+37.42%)'}, {'symbol': 'CAT?p=CAT', 'price': '209.17', 'Pchange': '-4.36', 'RMchange': '(-2.04%)'}]\n",
      "Fin.\n"
     ]
    }
   ],
   "source": [
    "# Create a Loop \n",
    "for item in mystocks:\n",
    "    stockdata.append(getData(item))\n",
    "    print('Getting: ',item)\n",
    "with open('stockdata.json', 'w') as f:\n",
    "    json.dump(stockdata, f)\n",
    "    print(stockdata)\n",
    "print('Fin.')"
   ]
  },
  {
   "cell_type": "code",
   "execution_count": null,
   "id": "71c4cc3a",
   "metadata": {},
   "outputs": [],
   "source": []
  },
  {
   "cell_type": "code",
   "execution_count": null,
   "id": "d36582d0",
   "metadata": {},
   "outputs": [],
   "source": []
  },
  {
   "cell_type": "code",
   "execution_count": null,
   "id": "bf51cd74",
   "metadata": {},
   "outputs": [],
   "source": []
  }
 ],
 "metadata": {
  "kernelspec": {
   "display_name": "Python (dojo-env)",
   "language": "python",
   "name": "dojo-env"
  },
  "language_info": {
   "codemirror_mode": {
    "name": "ipython",
    "version": 3
   },
   "file_extension": ".py",
   "mimetype": "text/x-python",
   "name": "python",
   "nbconvert_exporter": "python",
   "pygments_lexer": "ipython3",
   "version": "3.9.15"
  },
  "toc": {
   "base_numbering": 1,
   "nav_menu": {},
   "number_sections": false,
   "sideBar": true,
   "skip_h1_title": false,
   "title_cell": "Table of Contents",
   "title_sidebar": "Contents",
   "toc_cell": false,
   "toc_position": {},
   "toc_section_display": true,
   "toc_window_display": false
  }
 },
 "nbformat": 4,
 "nbformat_minor": 5
}
