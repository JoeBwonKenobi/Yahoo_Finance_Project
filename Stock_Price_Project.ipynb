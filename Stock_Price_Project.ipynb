{
 "cells": [
  {
   "cell_type": "markdown",
   "id": "5313f4d4",
   "metadata": {},
   "source": [
    "# **Stock Project**"
   ]
  },
  {
   "cell_type": "markdown",
   "id": "8c9df0ea",
   "metadata": {},
   "source": [
    "# **Imports**"
   ]
  },
  {
   "cell_type": "code",
   "execution_count": 1,
   "id": "8ed8f274",
   "metadata": {},
   "outputs": [],
   "source": [
    "import requests\n",
    "import json\n",
    "from bs4 import BeautifulSoup"
   ]
  },
  {
   "cell_type": "markdown",
   "id": "3a93c157",
   "metadata": {},
   "source": [
    "# **Obtain Price Function**"
   ]
  },
  {
   "cell_type": "code",
   "execution_count": 2,
   "id": "8d793cb6",
   "metadata": {},
   "outputs": [],
   "source": [
    "# Import Data\n",
    "url = 'https://finance.yahoo.com/quote/ES%3DF?p'"
   ]
  },
  {
   "cell_type": "code",
   "execution_count": 3,
   "id": "ec6f2cd5",
   "metadata": {},
   "outputs": [],
   "source": [
    "r = requests.get(url)"
   ]
  },
  {
   "cell_type": "code",
   "execution_count": 4,
   "id": "6da4b1e3",
   "metadata": {},
   "outputs": [],
   "source": [
    "headers = {'User-Agent': 'Mozilla/5.0 (Windows NT 10.0; Win64; x64) AppleWebKit/537.36 (KHTML, like Gecko) Chrome/111.0.0.0 Safari/537.36'}"
   ]
  },
  {
   "cell_type": "code",
   "execution_count": 5,
   "id": "5db13933",
   "metadata": {},
   "outputs": [],
   "source": [
    "soup = BeautifulSoup(r.text, 'html.parser')"
   ]
  },
  {
   "cell_type": "code",
   "execution_count": 10,
   "id": "02c7d82f",
   "metadata": {},
   "outputs": [],
   "source": [
    "# Get Price\n",
    "price = soup.find('fin-streamer', {'class':'Fw(b) Fz(36px) Mb(-4px) D(ib)'}).text"
   ]
  },
  {
   "cell_type": "code",
   "execution_count": 11,
   "id": "8c9d6282",
   "metadata": {},
   "outputs": [
    {
     "name": "stdout",
     "output_type": "stream",
     "text": [
      "4,131.00\n"
     ]
    }
   ],
   "source": [
    "print(price)"
   ]
  },
  {
   "cell_type": "code",
   "execution_count": 13,
   "id": "cb59976d",
   "metadata": {},
   "outputs": [],
   "source": [
    "# Get Price \n",
    "Pchange = soup.find('fin-streamer', {'class':'Fw(500) Pstart(8px) Fz(24px)'}).text"
   ]
  },
  {
   "cell_type": "code",
   "execution_count": 14,
   "id": "dea4beed",
   "metadata": {},
   "outputs": [
    {
     "name": "stdout",
     "output_type": "stream",
     "text": [
      "4,131.00 +2.00\n"
     ]
    }
   ],
   "source": [
    "print(price, Pchange)"
   ]
  },
  {
   "cell_type": "code",
   "execution_count": null,
   "id": "83cc3b7c",
   "metadata": {},
   "outputs": [],
   "source": []
  }
 ],
 "metadata": {
  "kernelspec": {
   "display_name": "Python (dojo-env)",
   "language": "python",
   "name": "dojo-env"
  },
  "language_info": {
   "codemirror_mode": {
    "name": "ipython",
    "version": 3
   },
   "file_extension": ".py",
   "mimetype": "text/x-python",
   "name": "python",
   "nbconvert_exporter": "python",
   "pygments_lexer": "ipython3",
   "version": "3.9.15"
  },
  "toc": {
   "base_numbering": 1,
   "nav_menu": {},
   "number_sections": false,
   "sideBar": true,
   "skip_h1_title": false,
   "title_cell": "Table of Contents",
   "title_sidebar": "Contents",
   "toc_cell": false,
   "toc_position": {},
   "toc_section_display": true,
   "toc_window_display": false
  }
 },
 "nbformat": 4,
 "nbformat_minor": 5
}
